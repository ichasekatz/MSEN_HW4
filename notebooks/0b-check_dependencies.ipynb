{
 "cells": [
  {
   "cell_type": "markdown",
   "metadata": {},
   "source": [
    "# Check that libraries are installed\n",
    "\n",
    "This notebook checks to see if you have the correct version of Python as well as all necessary libraries installed.\n",
    "\n",
    "Check the [main README file](https://github.com/anthony-wang/BestPractices/blob/master/README.md) for instructions if anything is missing."
   ]
  },
  {
   "cell_type": "code",
   "execution_count": 5,
   "metadata": {},
   "outputs": [
    {
     "name": "stdout",
     "output_type": "stream",
     "text": [
      "Using python in /Library/Frameworks/Python.framework/Versions/3.12\n",
      "3.12.2 (v3.12.2:6abddd9f6a, Feb  6 2024, 17:02:06) [Clang 13.0.0 (clang-1300.0.29.30)]\n"
     ]
    },
    {
     "ename": "InvalidVersion",
     "evalue": "Invalid version: '3.12.2 (v3.12.2:6abddd9f6a, Feb  6 2024, 17:02:06) [Clang 13.0.0 (clang-1300.0.29.30)]'",
     "output_type": "error",
     "traceback": [
      "\u001b[0;31m---------------------------------------------------------------------------\u001b[0m",
      "\u001b[0;31mInvalidVersion\u001b[0m                            Traceback (most recent call last)",
      "Cell \u001b[0;32mIn[5], line 43\u001b[0m\n\u001b[1;32m     41\u001b[0m \u001b[38;5;28mprint\u001b[39m(\u001b[38;5;124m'\u001b[39m\u001b[38;5;124mUsing python in\u001b[39m\u001b[38;5;124m'\u001b[39m, sys\u001b[38;5;241m.\u001b[39mprefix)\n\u001b[1;32m     42\u001b[0m \u001b[38;5;28mprint\u001b[39m(sys\u001b[38;5;241m.\u001b[39mversion)\n\u001b[0;32m---> 43\u001b[0m pyversion \u001b[38;5;241m=\u001b[39m \u001b[43mVersion\u001b[49m\u001b[43m(\u001b[49m\u001b[43msys\u001b[49m\u001b[38;5;241;43m.\u001b[39;49m\u001b[43mversion\u001b[49m\u001b[43m)\u001b[49m\n\u001b[1;32m     44\u001b[0m \u001b[38;5;28;01mif\u001b[39;00m pyversion \u001b[38;5;241m>\u001b[39m\u001b[38;5;241m=\u001b[39m \u001b[38;5;124m\"\u001b[39m\u001b[38;5;124m3\u001b[39m\u001b[38;5;124m\"\u001b[39m:\n\u001b[1;32m     45\u001b[0m     \u001b[38;5;28;01mif\u001b[39;00m pyversion \u001b[38;5;241m<\u001b[39m \u001b[38;5;124m\"\u001b[39m\u001b[38;5;124m3.7\u001b[39m\u001b[38;5;124m\"\u001b[39m:\n",
      "File \u001b[0;32m~/Library/Python/3.12/lib/python/site-packages/packaging/version.py:202\u001b[0m, in \u001b[0;36mVersion.__init__\u001b[0;34m(self, version)\u001b[0m\n\u001b[1;32m    200\u001b[0m match \u001b[38;5;241m=\u001b[39m \u001b[38;5;28mself\u001b[39m\u001b[38;5;241m.\u001b[39m_regex\u001b[38;5;241m.\u001b[39msearch(version)\n\u001b[1;32m    201\u001b[0m \u001b[38;5;28;01mif\u001b[39;00m \u001b[38;5;129;01mnot\u001b[39;00m match:\n\u001b[0;32m--> 202\u001b[0m     \u001b[38;5;28;01mraise\u001b[39;00m InvalidVersion(\u001b[38;5;124mf\u001b[39m\u001b[38;5;124m\"\u001b[39m\u001b[38;5;124mInvalid version: \u001b[39m\u001b[38;5;132;01m{\u001b[39;00mversion\u001b[38;5;132;01m!r}\u001b[39;00m\u001b[38;5;124m\"\u001b[39m)\n\u001b[1;32m    204\u001b[0m \u001b[38;5;66;03m# Store the parsed out pieces of the version\u001b[39;00m\n\u001b[1;32m    205\u001b[0m \u001b[38;5;28mself\u001b[39m\u001b[38;5;241m.\u001b[39m_version \u001b[38;5;241m=\u001b[39m _Version(\n\u001b[1;32m    206\u001b[0m     epoch\u001b[38;5;241m=\u001b[39m\u001b[38;5;28mint\u001b[39m(match\u001b[38;5;241m.\u001b[39mgroup(\u001b[38;5;124m\"\u001b[39m\u001b[38;5;124mepoch\u001b[39m\u001b[38;5;124m\"\u001b[39m)) \u001b[38;5;28;01mif\u001b[39;00m match\u001b[38;5;241m.\u001b[39mgroup(\u001b[38;5;124m\"\u001b[39m\u001b[38;5;124mepoch\u001b[39m\u001b[38;5;124m\"\u001b[39m) \u001b[38;5;28;01melse\u001b[39;00m \u001b[38;5;241m0\u001b[39m,\n\u001b[1;32m    207\u001b[0m     release\u001b[38;5;241m=\u001b[39m\u001b[38;5;28mtuple\u001b[39m(\u001b[38;5;28mint\u001b[39m(i) \u001b[38;5;28;01mfor\u001b[39;00m i \u001b[38;5;129;01min\u001b[39;00m match\u001b[38;5;241m.\u001b[39mgroup(\u001b[38;5;124m\"\u001b[39m\u001b[38;5;124mrelease\u001b[39m\u001b[38;5;124m\"\u001b[39m)\u001b[38;5;241m.\u001b[39msplit(\u001b[38;5;124m\"\u001b[39m\u001b[38;5;124m.\u001b[39m\u001b[38;5;124m\"\u001b[39m)),\n\u001b[0;32m   (...)\u001b[0m\n\u001b[1;32m    213\u001b[0m     local\u001b[38;5;241m=\u001b[39m_parse_local_version(match\u001b[38;5;241m.\u001b[39mgroup(\u001b[38;5;124m\"\u001b[39m\u001b[38;5;124mlocal\u001b[39m\u001b[38;5;124m\"\u001b[39m)),\n\u001b[1;32m    214\u001b[0m )\n",
      "\u001b[0;31mInvalidVersion\u001b[0m: Invalid version: '3.12.2 (v3.12.2:6abddd9f6a, Feb  6 2024, 17:02:06) [Clang 13.0.0 (clang-1300.0.29.30)]'"
     ]
    }
   ],
   "source": [
    "from __future__ import print_function\n",
    "from packaging.version import Version\n",
    "import sys\n",
    "\n",
    "try:\n",
    "    import curses\n",
    "    curses.setupterm()\n",
    "    assert curses.tigetnum(\"colors\") > 2\n",
    "    OK = \"\\x1b[1;%dm[ OK ]\\x1b[0m\" % (30 + curses.COLOR_GREEN)\n",
    "    FAIL = \"\\x1b[1;%dm[FAIL]\\x1b[0m\" % (30 + curses.COLOR_RED)\n",
    "except:\n",
    "    OK = '[ OK ]'\n",
    "    FAIL = '[FAIL]'\n",
    "\n",
    "try:\n",
    "    import importlib\n",
    "except ImportError:\n",
    "    print(FAIL, \"Python version 3.4 is required,\"\n",
    "                \" but %s is installed.\" % sys.version)\n",
    "\n",
    "def import_version(pkg, min_ver):\n",
    "    mod = None\n",
    "    try:\n",
    "        mod = importlib.import_module(pkg)\n",
    "        if pkg in {'PIL'}:\n",
    "            ver = mod.VERSION\n",
    "        else:\n",
    "            ver = mod.__version__\n",
    "        if Version(ver) < min_ver:\n",
    "            print(FAIL, \"%s version %s or higher required, but %s installed.\"\n",
    "                  % (lib, min_ver, ver))\n",
    "        else:\n",
    "            print(OK, '%s version %s' % (pkg, ver))\n",
    "    except ImportError as imp_err_msg:\n",
    "        print(FAIL, 'Error in importing %s: %s' % (pkg, imp_err_msg))\n",
    "    except AttributeError as att_err_msg:\n",
    "        print(FAIL, 'Error in reading attribute of %s: %s' % (pkg, att_err_msg))\n",
    "    return mod\n",
    "\n",
    "# first check the python version\n",
    "print('Using python in', sys.prefix)\n",
    "print(sys.version)\n",
    "pyversion = Version(sys.version)\n",
    "if pyversion >= \"3\":\n",
    "    if pyversion < \"3.7\":\n",
    "        print(FAIL, \"Python version > 3.7 is required,\"\n",
    "                    \" but %s is installed.\\n\" % sys.version)\n",
    "elif pyversion < \"3\":\n",
    "    print(FAIL, \"Python version > 3.7 is required,\"\n",
    "                \" but %s is installed.\\n\" % sys.version)\n",
    "else:\n",
    "    print(FAIL, \"Unknown Python version: %s\\n\" % sys.version)\n",
    "\n",
    "requirements = {'numpy': '1.18.0',\n",
    "                'pandas': '1.0.0',\n",
    "                #'pandas_profiling': '2.4.0',\n",
    "                'matplotlib': '3.2.0',\n",
    "                'seaborn': '0.10.0',\n",
    "                'sklearn': '0.22.0',\n",
    "                'scipy': '1.4.0',\n",
    "                'tqdm': '4.43.0',\n",
    "                'jupyter_client': '6.0.0',\n",
    "                'ipywidgets': '7.5.0',\n",
    "                'torch': '1.3.0',}\n",
    "\n",
    "# now check the dependencies\n",
    "for lib, required_version in list(requirements.items()):\n",
    "    import_version(lib, required_version)"
   ]
  }
 ],
 "metadata": {
  "kernelspec": {
   "display_name": "Python 3",
   "language": "python",
   "name": "python3"
  },
  "language_info": {
   "codemirror_mode": {
    "name": "ipython",
    "version": 3
   },
   "file_extension": ".py",
   "mimetype": "text/x-python",
   "name": "python",
   "nbconvert_exporter": "python",
   "pygments_lexer": "ipython3",
   "version": "3.12.2"
  }
 },
 "nbformat": 4,
 "nbformat_minor": 4
}
